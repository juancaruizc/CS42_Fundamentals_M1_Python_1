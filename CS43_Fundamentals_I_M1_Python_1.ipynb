{
  "nbformat": 4,
  "nbformat_minor": 0,
  "metadata": {
    "colab": {
      "name": " CS43: Fundamentals I: M1: Python 1",
      "provenance": [],
      "include_colab_link": true
    },
    "kernelspec": {
      "name": "python3",
      "display_name": "Python 3"
    },
    "language_info": {
      "name": "python"
    }
  },
  "cells": [
    {
      "cell_type": "markdown",
      "metadata": {
        "id": "view-in-github",
        "colab_type": "text"
      },
      "source": [
        "<a href=\"https://colab.research.google.com/github/juancaruizc/CS42_Fundamentals_M1_Python_1/blob/cs43/CS43_Fundamentals_I_M1_Python_1.ipynb\" target=\"_parent\"><img src=\"https://colab.research.google.com/assets/colab-badge.svg\" alt=\"Open In Colab\"/></a>"
      ]
    },
    {
      "cell_type": "markdown",
      "metadata": {
        "id": "6V6Pr8zE8U5t"
      },
      "source": [
        "# Fundamentals: Intro to Python I\n",
        "\n",
        "**Attendance code: 4354**\n",
        "\n",
        "* Python Basics\n",
        "* Variables\n",
        "* Strings\n",
        "* Formatted output\n",
        "* Whitespace blocks\n",
        "* Looping\n",
        "* Conditionals\n",
        "* Functions\n",
        "* UPER\n",
        "* CodeSignal\n",
        "\n",
        "[Python Library Reference Docs](https://docs.python.org/3/library/index.html)"
      ]
    },
    {
      "cell_type": "code",
      "metadata": {
        "colab": {
          "base_uri": "https://localhost:8080/"
        },
        "id": "ohTDPj1r8PZ6",
        "outputId": "d0825658-11de-49ed-84b4-e83d20420fdb"
      },
      "source": [
        "# Variables and print()\n",
        "\n",
        "a = 12\n",
        "print(a)\n",
        "\n",
        "b = 3.14\n",
        "print(b)\n",
        "\n",
        "c = True\n",
        "print(c)\n",
        "\n",
        "d = \"Hello, world!\"\n",
        "print(d)\n",
        "\n",
        "e = 'Hello, again!'\n",
        "print(e)\n",
        "\n",
        "# JS equivalent:\n",
        "# let a = 12;\n",
        "# console.log(a)"
      ],
      "execution_count": null,
      "outputs": [
        {
          "output_type": "stream",
          "text": [
            "12\n",
            "3.14\n",
            "True\n",
            "Hello, world!\n",
            "Hello, again!\n"
          ],
          "name": "stdout"
        }
      ]
    },
    {
      "cell_type": "code",
      "metadata": {
        "colab": {
          "base_uri": "https://localhost:8080/"
        },
        "id": "eUNNE0G1E452",
        "outputId": "5da03579-a184-4af8-fc5b-af76f9db9293"
      },
      "source": [
        "# Formatted output\n",
        "# \"f-strings\"\n",
        "\n",
        "print(f\"a is {a}, and b is {b}\")\n",
        "print(f\"a is {a}, and b is {b:.5f}\")   # print b with 5 decimal places\n",
        "\n",
        "print(\"a is %d and b is %f\" % (a, b))  # old printf operator way, rarely used"
      ],
      "execution_count": null,
      "outputs": [
        {
          "output_type": "stream",
          "text": [
            "a is 12, and b is 3.14\n",
            "a is 12 and b is 3.140000\n",
            "a is 12, and b is 3.14000\n"
          ],
          "name": "stdout"
        }
      ]
    },
    {
      "cell_type": "code",
      "metadata": {
        "colab": {
          "base_uri": "https://localhost:8080/"
        },
        "id": "Fbh-iqApGCYM",
        "outputId": "4089a723-ebde-4626-c80b-7d623e56eb13"
      },
      "source": [
        " a = 12\n",
        " print(a)\n",
        "\n",
        " a = \"hi\"\n",
        " print(a)\n"
      ],
      "execution_count": null,
      "outputs": [
        {
          "output_type": "stream",
          "text": [
            "12\n",
            "hi\n"
          ],
          "name": "stdout"
        }
      ]
    },
    {
      "cell_type": "markdown",
      "metadata": {
        "id": "x1NDKIQPI-eM"
      },
      "source": [
        "# Flow Control\n",
        "\n",
        "* While loops\n",
        "* For loops\n",
        "* If statements\n",
        "\n",
        "\n",
        "## `while` loops\n",
        "\n",
        "Do something while some condition is true.\n",
        "\n"
      ]
    },
    {
      "cell_type": "code",
      "metadata": {
        "colab": {
          "base_uri": "https://localhost:8080/"
        },
        "id": "pPsAF-__GD8r",
        "outputId": "7d7792eb-a608-4345-a1ef-c5f0e0821a89"
      },
      "source": [
        "a = 0\n",
        "\n",
        "while a < 5:\n",
        "    print(a)   # indent level determines blocks\n",
        "    a += 1\n",
        "\n",
        "a = 0\n",
        "while a < 3:\n",
        "    print(a)   # indent level determines blocks\n",
        "    a += 1\n",
        "\n",
        "print(\"All done!\")"
      ],
      "execution_count": null,
      "outputs": [
        {
          "output_type": "stream",
          "text": [
            "0\n",
            "1\n",
            "2\n",
            "3\n",
            "4\n",
            "0\n",
            "1\n",
            "2\n",
            "All done!\n"
          ],
          "name": "stdout"
        }
      ]
    },
    {
      "cell_type": "code",
      "metadata": {
        "colab": {
          "base_uri": "https://localhost:8080/"
        },
        "id": "h3tYGMMeMY--",
        "outputId": "99e5e4a7-132d-4dcf-c051-1033c5e62ce7"
      },
      "source": [
        "a = 25\n",
        "\n",
        "if a < 20:\n",
        "    print(\"a is under 20!\")\n",
        "elif a < 30:  # else-if\n",
        "    print(\"a is under 30!\")\n",
        "else:\n",
        "    print(\"a is not under 30!\")"
      ],
      "execution_count": null,
      "outputs": [
        {
          "output_type": "stream",
          "text": [
            "a is under 30!\n"
          ],
          "name": "stdout"
        }
      ]
    },
    {
      "cell_type": "markdown",
      "metadata": {
        "id": "a9XDAIDEND7r"
      },
      "source": [
        "## Challenge\n",
        "\n",
        "If you have a `while True:` loop, how can you break out after 5 interations?"
      ]
    },
    {
      "cell_type": "code",
      "metadata": {
        "colab": {
          "base_uri": "https://localhost:8080/"
        },
        "id": "bJooOu1SNLFM",
        "outputId": "467f63e5-4ba4-421f-e101-664cbcdcdb60"
      },
      "source": [
        "a = 0\n",
        "\n",
        "while True:  # Loops forever\n",
        "    print(a)\n",
        "    a += 1\n",
        "\n",
        "    if a == 5:\n",
        "        break\n",
        "\n",
        "print(\"All done!\")"
      ],
      "execution_count": null,
      "outputs": [
        {
          "output_type": "stream",
          "text": [
            "0\n",
            "1\n",
            "2\n",
            "3\n",
            "4\n",
            "All done!\n"
          ],
          "name": "stdout"
        }
      ]
    },
    {
      "cell_type": "markdown",
      "metadata": {
        "id": "BhYgA9UoN_mH"
      },
      "source": [
        "## `for` loops\n",
        "\n",
        "* Iterate a certain number of times (like `for (i = 0; i < 10; i++)`)\n",
        "* Iterate over some \"iterable\" object (like for-each)\n"
      ]
    },
    {
      "cell_type": "code",
      "metadata": {
        "colab": {
          "base_uri": "https://localhost:8080/"
        },
        "id": "RfVpyzpvP1so",
        "outputId": "2d033b3e-e454-437f-8dd1-ee608e3835a6"
      },
      "source": [
        "# Iterate a certain number of times:\n",
        "\n",
        "for i in range(3):  # from 0 to 3, zero implied\n",
        "    print(i)\n",
        "\n",
        "for i in range(5, 10):  # start from 5, end just before 10\n",
        "    print(i)"
      ],
      "execution_count": null,
      "outputs": [
        {
          "output_type": "stream",
          "text": [
            "0\n",
            "1\n",
            "2\n",
            "5\n",
            "6\n",
            "7\n",
            "8\n",
            "9\n"
          ],
          "name": "stdout"
        }
      ]
    },
    {
      "cell_type": "code",
      "metadata": {
        "colab": {
          "base_uri": "https://localhost:8080/"
        },
        "id": "malS0io0QVps",
        "outputId": "7c78f92d-785b-401d-c1df-9c95b2bc93e1"
      },
      "source": [
        "for i in range(0, 20, 2):  # Count 0 to 20, stepping by 2\n",
        "    print(i)"
      ],
      "execution_count": null,
      "outputs": [
        {
          "output_type": "stream",
          "text": [
            "0\n",
            "2\n",
            "4\n",
            "6\n",
            "8\n",
            "10\n",
            "12\n",
            "14\n",
            "16\n",
            "18\n"
          ],
          "name": "stdout"
        }
      ]
    },
    {
      "cell_type": "code",
      "metadata": {
        "colab": {
          "base_uri": "https://localhost:8080/"
        },
        "id": "z-ZZg1ZwQmGJ",
        "outputId": "3802ce3d-5dbf-40c8-8669-6ebfe777936b"
      },
      "source": [
        "# Print the numbers from 18 down to 0 (inclusive), stepping by 3\n",
        "\n",
        "for i in range(18, -1, -3):\n",
        "    print(i)"
      ],
      "execution_count": null,
      "outputs": [
        {
          "output_type": "stream",
          "text": [
            "18\n",
            "15\n",
            "12\n",
            "9\n",
            "6\n",
            "3\n",
            "0\n"
          ],
          "name": "stdout"
        }
      ]
    },
    {
      "cell_type": "code",
      "metadata": {
        "colab": {
          "base_uri": "https://localhost:8080/"
        },
        "id": "U2U5yDXtRX0g",
        "outputId": "85e97eb8-4e71-42d4-82b3-f8725cd420c7"
      },
      "source": [
        "# print the characters of this string... backwards\n",
        "#\n",
        "# !\n",
        "# o\n",
        "# l\n",
        "# l\n",
        "# e\n",
        "# H\n",
        "\n",
        "a = \"Hello, world!\"\n",
        "\n",
        "for i in range(len(a) - 1, -1, -1):\n",
        "    print(a[i])\n",
        "\n",
        "\n",
        "\n"
      ],
      "execution_count": null,
      "outputs": [
        {
          "output_type": "stream",
          "text": [
            "!\n",
            "d\n",
            "l\n",
            "r\n",
            "o\n",
            "w\n",
            " \n",
            ",\n",
            "o\n",
            "l\n",
            "l\n",
            "e\n",
            "H\n"
          ],
          "name": "stdout"
        }
      ]
    },
    {
      "cell_type": "code",
      "metadata": {
        "colab": {
          "base_uri": "https://localhost:8080/"
        },
        "id": "Mdvl6l_tSjCH",
        "outputId": "93039a85-87f3-4aa3-dd50-9fd424497c9b"
      },
      "source": [
        "a = \"Hello, world!\"\n",
        "\n",
        "for c in a:   # for each-like\n",
        "    print(c)"
      ],
      "execution_count": null,
      "outputs": [
        {
          "output_type": "stream",
          "text": [
            "H\n",
            "e\n",
            "l\n",
            "l\n",
            "o\n",
            ",\n",
            " \n",
            "w\n",
            "o\n",
            "r\n",
            "l\n",
            "d\n",
            "!\n"
          ],
          "name": "stdout"
        }
      ]
    },
    {
      "cell_type": "markdown",
      "metadata": {
        "id": "GuFApILlT_FJ"
      },
      "source": [
        "# Slices\n",
        "\n",
        "Gets part of a string back.\n",
        "\n",
        "```\n",
        "s = \"01234\"\n",
        "\n",
        "# Single-character slice\n",
        "s[1] == \"1\" \n",
        "\n",
        "# Multi-character slices \"start:end\" (not including end)\n",
        "s[0:1] == \"0\"\n",
        "s[0:2] == \"01\"\n",
        "s[0:3] == \"012\"\n",
        "s[2:4] == \"23\"\n",
        "\n",
        "# Multi-character slices with step:\n",
        "\n",
        "s[0:5:2] == \"024\"\n",
        "\n",
        "# Omitting beginning or end assumes start or end of string\n",
        "\n",
        "s[2:] == \"234\"\n",
        "s[:3] == \"012\"\n",
        "\n",
        "# Reverse a string:\n",
        "\n",
        "s[::-1] == \"43210\"\n",
        "\n",
        "```\n"
      ]
    },
    {
      "cell_type": "markdown",
      "metadata": {
        "id": "lcUdsWZ-U3Pm"
      },
      "source": [
        "# Functions\n",
        "\n",
        "* Define the function\n",
        "  * Along with any parameters\n",
        "* Call it\n",
        "  * Along with any arguments\n"
      ]
    },
    {
      "cell_type": "code",
      "metadata": {
        "colab": {
          "base_uri": "https://localhost:8080/"
        },
        "id": "KHAs1P04UymM",
        "outputId": "10caa437-4419-4f2e-88e1-11066cfd070b"
      },
      "source": [
        "# Define the function\n",
        "def foo():\n",
        "    print(\"Hello!\")\n",
        "\n",
        "# Call the function\n",
        "foo()\n",
        "foo()\n",
        "foo()\n",
        "foo()"
      ],
      "execution_count": null,
      "outputs": [
        {
          "output_type": "stream",
          "text": [
            "Hello!\n",
            "Hello!\n",
            "Hello!\n",
            "Hello!\n"
          ],
          "name": "stdout"
        }
      ]
    },
    {
      "cell_type": "code",
      "metadata": {
        "colab": {
          "base_uri": "https://localhost:8080/"
        },
        "id": "fLUTo3cBVUgo",
        "outputId": "f918ffcf-428e-4756-d4dc-2ed0ab2f9861"
      },
      "source": [
        "def print_thing(s):  # Behind the scenes, s = 3.14\n",
        "    print(f\"You passed in '{s}'\")\n",
        "\n",
        "print_thing(3.14)"
      ],
      "execution_count": null,
      "outputs": [
        {
          "output_type": "stream",
          "text": [
            "You passed in '3.14'\n"
          ],
          "name": "stdout"
        }
      ]
    },
    {
      "cell_type": "code",
      "metadata": {
        "colab": {
          "base_uri": "https://localhost:8080/"
        },
        "id": "5cBC6wT_WC_R",
        "outputId": "f3be46cd-be83-4802-b15f-a4f30322242b"
      },
      "source": [
        "# Python is \"pass by sharing\"\n",
        "\n",
        "def foo(x):  # Behind the scenes, it's like \"x = a\" happened\n",
        "    print(f\"x is {x}\")\n",
        "    x += 1\n",
        "    print(f\"x is now {x}\")\n",
        "\n",
        "    return x\n",
        "\n",
        "a = 12\n",
        "a = foo(a)\n",
        "\n",
        "print(a)  # What does this print?\n",
        "#print(b)"
      ],
      "execution_count": null,
      "outputs": [
        {
          "output_type": "stream",
          "text": [
            "x is 12\n",
            "x is now 13\n",
            "13\n"
          ],
          "name": "stdout"
        }
      ]
    }
  ]
}