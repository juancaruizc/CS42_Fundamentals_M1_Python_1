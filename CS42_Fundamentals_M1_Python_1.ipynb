{
  "nbformat": 4,
  "nbformat_minor": 0,
  "metadata": {
    "colab": {
      "name": "Copy of CS42: Fundamentals: M1: Python 1",
      "provenance": [],
      "include_colab_link": true
    },
    "kernelspec": {
      "name": "python3",
      "display_name": "Python 3"
    },
    "language_info": {
      "name": "python"
    }
  },
  "cells": [
    {
      "cell_type": "markdown",
      "metadata": {
        "id": "view-in-github",
        "colab_type": "text"
      },
      "source": [
        "<a href=\"https://colab.research.google.com/github/juancaruizc/Fundamentals_M1_Python_1/blob/main/CS42_Fundamentals_M1_Python_1.ipynb\" target=\"_parent\"><img src=\"https://colab.research.google.com/assets/colab-badge.svg\" alt=\"Open In Colab\"/></a>"
      ]
    },
    {
      "cell_type": "markdown",
      "metadata": {
        "id": "4wpD5uqX6yx7"
      },
      "source": [
        "# Intro to Python part 1\n",
        "\n",
        "**Attendance code: 8189**\n"
      ]
    },
    {
      "cell_type": "code",
      "metadata": {
        "id": "DVDLcCSTwB65",
        "colab": {
          "base_uri": "https://localhost:8080/"
        },
        "outputId": "447dde01-a2e3-4f75-9023-9222dd69103c"
      },
      "source": [
        "# Print \"hello, world!\"\n",
        "\n",
        "print('hello world')"
      ],
      "execution_count": 3,
      "outputs": [
        {
          "output_type": "stream",
          "text": [
            "hello world\n"
          ],
          "name": "stdout"
        }
      ]
    },
    {
      "cell_type": "code",
      "metadata": {
        "colab": {
          "base_uri": "https://localhost:8080/"
        },
        "id": "XRfWQJkI-m9Y",
        "outputId": "3402af5c-ea21-4439-8c8f-23609228d17d"
      },
      "source": [
        "print(3490)\n",
        "print('hi there', 999)"
      ],
      "execution_count": 7,
      "outputs": [
        {
          "output_type": "stream",
          "text": [
            "3490\n",
            "hi there 999\n"
          ],
          "name": "stdout"
        }
      ]
    },
    {
      "cell_type": "code",
      "metadata": {
        "colab": {
          "base_uri": "https://localhost:8080/"
        },
        "id": "XWihk-fp-ssi",
        "outputId": "3ac770b8-a3bc-4020-fe83-77029774dc80"
      },
      "source": [
        "# Declaring variables\n",
        "\n",
        "a = 12\n",
        "b = 3.14159\n",
        "c = \"hi there!\"\n",
        "\n",
        "print(a)\n",
        "print(a + 10)\n",
        "print(c)\n",
        "\n",
        "#fstring or formatted string\n",
        "print(f'the value of a + b is {a + b}')\n",
        "print(f'These are curly braces {{}}')"
      ],
      "execution_count": 14,
      "outputs": [
        {
          "output_type": "stream",
          "text": [
            "12\n",
            "22\n",
            "hi there!\n",
            "the value of a + b is 15.14159\n",
            "These are curly braces {}\n"
          ],
          "name": "stdout"
        }
      ]
    },
    {
      "cell_type": "code",
      "metadata": {
        "colab": {
          "base_uri": "https://localhost:8080/"
        },
        "id": "V7ZXkJMf-9Cd",
        "outputId": "f9a9f6c5-f9d4-4138-cd82-8df3a14fc09b"
      },
      "source": [
        "a = 'hello,'\n",
        "b = 'world!'\n",
        "c = 'my favorite number is ' #string\n",
        "d = 3490                    #integer\n",
        "\n",
        "print(a + b)\n",
        "#print(c + d) - gives error\n",
        "#int() converts anything to an int\n",
        "#str() converts anything to a string\n",
        "\n",
        "print(c + str(d))"
      ],
      "execution_count": 18,
      "outputs": [
        {
          "output_type": "stream",
          "text": [
            "hello,world!\n",
            "my favorite number is 3490\n"
          ],
          "name": "stdout"
        }
      ]
    },
    {
      "cell_type": "code",
      "metadata": {
        "id": "ys14TKf5A-_G"
      },
      "source": [
        "a = 12\n",
        "b = a\n",
        "\n",
        "a = 'hi there'\n",
        "\n",
        "b = 38"
      ],
      "execution_count": 19,
      "outputs": []
    },
    {
      "cell_type": "code",
      "metadata": {
        "id": "UMGzOloBDDUx",
        "outputId": "3a7b293d-2ef4-49c3-946a-85ac12bc9c06",
        "colab": {
          "base_uri": "https://localhost:8080/"
        }
      },
      "source": [
        "a = True\n",
        "b = False   # case matters\n",
        "\n",
        "x = 10 > 5  # x holds Boolean type\n",
        "\n",
        "print(x)\n",
        "\n",
        "print(30 < 40)\n",
        "\n",
        "print(\"aardvark\" > \"zebra\")   # dictionary order\n",
        "\n",
        "print(4 != 3)\n",
        "print(4 == 4)\n",
        "print(4 >= 4)\n",
        "print(4 <= 4)\n",
        "\n",
        "a = 12\n",
        "b = 5\n",
        "\n",
        "if a > 10 and b < 10:\n",
        "    print(\"success!\")\n",
        "\n",
        "if a > 10 or b > 10:\n",
        "    print(\"success!\")"
      ],
      "execution_count": 44,
      "outputs": [
        {
          "output_type": "stream",
          "text": [
            "True\n",
            "True\n",
            "False\n",
            "True\n",
            "True\n",
            "True\n",
            "True\n",
            "success!\n",
            "success!\n"
          ],
          "name": "stdout"
        }
      ]
    },
    {
      "cell_type": "code",
      "metadata": {
        "id": "Xjzk-pIvDdi7",
        "outputId": "c4c4013a-5b67-491d-c0bc-8c49d0c3d9c8",
        "colab": {
          "base_uri": "https://localhost:8080/"
        }
      },
      "source": [
        "#if statements\n",
        "#no curly braces - indentations (whitespace) anything under the indentation is in the condition\n",
        "\n",
        "if 10 > 5:\n",
        "    print('10 is still greater than 5, thankfully')\n",
        "    print('This happens, too')\n",
        "\n",
        "elif 5 < 10:\n",
        "    print('Something more sensible...')\n",
        "else:\n",
        "    print('Something must be horribly wrong with the universe!')\n",
        "\n",
        "print('And this happens unconditionally')"
      ],
      "execution_count": 27,
      "outputs": [
        {
          "output_type": "stream",
          "text": [
            "10 is still greater than 5, thankfully\n",
            "This happens, too\n",
            "And this happens unconditionally\n"
          ],
          "name": "stdout"
        }
      ]
    },
    {
      "cell_type": "code",
      "metadata": {
        "id": "e3Vla5xLD6n5",
        "outputId": "336e9ffd-3071-4470-fdeb-7a02e24f9cd4",
        "colab": {
          "base_uri": "https://localhost:8080/"
        }
      },
      "source": [
        "#While loops\n",
        "\n",
        "i = 0\n",
        "\n",
        "while i < 5:\n",
        "    print(f'is is now {i}')\n",
        "    i += 1 #i = i + 1"
      ],
      "execution_count": 29,
      "outputs": [
        {
          "output_type": "stream",
          "text": [
            "is is now 0\n",
            "is is now 1\n",
            "is is now 2\n",
            "is is now 3\n",
            "is is now 4\n"
          ],
          "name": "stdout"
        }
      ]
    },
    {
      "cell_type": "code",
      "metadata": {
        "id": "ELydkLnmHcJi",
        "outputId": "e08578c2-7289-49b0-b766-2a53585c5576",
        "colab": {
          "base_uri": "https://localhost:8080/"
        }
      },
      "source": [
        "# For loops\n",
        "# These operate on iterables, like for-in or for-of\n",
        "# This style: for(i = 0; i < 10; i++) doesnt exist in Python\n",
        "# This style: for(i = 5; i < 10; i+=3) doesnt exist in Python\n",
        "# Counting from 0-4:\n",
        "\n",
        "for i in range(4): #range is bui;t in iterator for walking through a range\n",
        "    print(i)\n",
        "\n",
        "print()\n",
        "\n",
        "\n",
        "# specify start and end and step\n",
        "#\n",
        "#          start end  step\n",
        "#              |  |   |\n",
        "for i in range(5, 20, 2):\n",
        "    print(i)\n",
        "\n",
        "print()\n",
        "\n",
        "# print numbers from 10 to 0 (inclusive), only even numbers\n",
        "for i in range(10,-1,-2):\n",
        "    print(i)"
      ],
      "execution_count": 32,
      "outputs": [
        {
          "output_type": "stream",
          "text": [
            "0\n",
            "1\n",
            "2\n",
            "3\n",
            "\n",
            "5\n",
            "7\n",
            "9\n",
            "11\n",
            "13\n",
            "15\n",
            "17\n",
            "19\n",
            "\n",
            "10\n",
            "8\n",
            "6\n",
            "4\n",
            "2\n",
            "0\n"
          ],
          "name": "stdout"
        }
      ]
    },
    {
      "cell_type": "code",
      "metadata": {
        "id": "qz_Iq0ojIFxF",
        "outputId": "cfe98b04-01c9-46c4-fce6-da842805c9f0",
        "colab": {
          "base_uri": "https://localhost:8080/"
        }
      },
      "source": [
        "#For loops work on any iterator\n",
        "for c in 'hello':\n",
        "    print(c)"
      ],
      "execution_count": 34,
      "outputs": [
        {
          "output_type": "stream",
          "text": [
            "h\n",
            "e\n",
            "l\n",
            "l\n",
            "o\n"
          ],
          "name": "stdout"
        }
      ]
    },
    {
      "cell_type": "code",
      "metadata": {
        "id": "vbGdptEOJQCo",
        "outputId": "4bddfc4e-8411-4a94-941a-a6b01f8431e3",
        "colab": {
          "base_uri": "https://localhost:8080/"
        }
      },
      "source": [
        "# Gets index and value at the same time\n",
        "for i, c in enumerate('hello'):\n",
        "    print(f'The character at index {i} is {c}')\n",
        "\n",
        "#Otherwise, we'd have to do something like this\n",
        "\n",
        "s = 'hello'\n",
        "for i in range(len(s)): #len gets the length of a string or array\n",
        "    print(f'the character at index {i} is {s[i]}') #square bracket array notation"
      ],
      "execution_count": 37,
      "outputs": [
        {
          "output_type": "stream",
          "text": [
            "The character at index 0 is h\n",
            "The character at index 1 is e\n",
            "The character at index 2 is l\n",
            "The character at index 3 is l\n",
            "The character at index 4 is o\n",
            "the character at index 0 is h\n",
            "the character at index 1 is e\n",
            "the character at index 2 is l\n",
            "the character at index 3 is l\n",
            "the character at index 4 is o\n"
          ],
          "name": "stdout"
        }
      ]
    },
    {
      "cell_type": "code",
      "metadata": {
        "id": "dlDQjCm2JWfN",
        "outputId": "a631257f-4683-4a1b-8a2d-1a7745280de4",
        "colab": {
          "base_uri": "https://localhost:8080/"
        }
      },
      "source": [
        "# Functions\n",
        "\n",
        "#Make a function 'my_function' that takes no arugments\n",
        "def my_function():\n",
        "    print('Hello')\n",
        "    print('Hello, again')\n",
        "\n",
        "#Call it!\n",
        "my_function()"
      ],
      "execution_count": 38,
      "outputs": [
        {
          "output_type": "stream",
          "text": [
            "Hello\n",
            "Hello, again\n"
          ],
          "name": "stdout"
        }
      ]
    },
    {
      "cell_type": "code",
      "metadata": {
        "id": "FN2Mz-tbKqxr",
        "outputId": "29750dc1-6307-4c5e-bb2b-becee8a03e81",
        "colab": {
          "base_uri": "https://localhost:8080/"
        }
      },
      "source": [
        "def print_num(n):\n",
        "    print(n)\n",
        "\n",
        "print_num(12)\n",
        "\n",
        "def add_nums(a, b):\n",
        "    sum = a + b\n",
        "    return sum\n",
        "\n",
        "r = add_nums(12, 36)\n",
        "\n",
        "print(r)"
      ],
      "execution_count": 40,
      "outputs": [
        {
          "output_type": "stream",
          "text": [
            "12\n",
            "48\n"
          ],
          "name": "stdout"
        }
      ]
    },
    {
      "cell_type": "code",
      "metadata": {
        "id": "hpBfAIPoLAkO",
        "outputId": "32e2d771-5ce0-43b2-a8c1-380c49dee7a5",
        "colab": {
          "base_uri": "https://localhost:8080/"
        }
      },
      "source": [
        "# Scoping rules:\n",
        "#\n",
        "# The scope of a variable is the scope in which you first use it\n",
        "# But you can use a variable in local scope that \"hides\" something at global scope\n",
        "#\n",
        "# You can override scope with \"global\" and \"nonlocal\" keywords\n",
        "\n",
        "def add_10(x):  # copy the argument to x, as if by assignment with =\n",
        "    # x is local scope, local to add_10()\n",
        "    x = x + 10   #x += 10, same thing\n",
        "\n",
        "a = 50\n",
        "add_10(a)\n",
        "\n",
        "print(a)  # 50"
      ],
      "execution_count": 42,
      "outputs": [
        {
          "output_type": "stream",
          "text": [
            "50\n"
          ],
          "name": "stdout"
        }
      ]
    },
    {
      "cell_type": "code",
      "metadata": {
        "id": "IeMY355JM7xk",
        "outputId": "2c1036c5-b759-40a5-e30f-ba8304ccd9be",
        "colab": {
          "base_uri": "https://localhost:8080/"
        }
      },
      "source": [
        "def add_10(x):\n",
        "    return x + 10\n",
        "\n",
        "a = 50\n",
        "print(add_10(a))\n",
        "\n",
        "print(add_10(100))"
      ],
      "execution_count": 43,
      "outputs": [
        {
          "output_type": "stream",
          "text": [
            "60\n",
            "110\n"
          ],
          "name": "stdout"
        }
      ]
    }
  ]
}